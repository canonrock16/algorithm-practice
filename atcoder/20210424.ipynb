{
 "cells": [
  {
   "cell_type": "code",
   "execution_count": null,
   "id": "compliant-singles",
   "metadata": {},
   "outputs": [],
   "source": [
    "def a_problem():\n",
    "    A, B, C = map(int, input().split())\n",
    "    #     A = 10\n",
    "    #     B = 10\n",
    "    #     C = 10\n",
    "    \n",
    "    if (A ** 2 + B ** 2) < C ** 2:\n",
    "        print(\"Yes\")\n",
    "    else:\n",
    "        print(\"No\")\n",
    "\n",
    "\n",
    "a_problem()"
   ]
  },
  {
   "cell_type": "code",
   "execution_count": null,
   "id": "about-assets",
   "metadata": {},
   "outputs": [],
   "source": [
    "def b_problem():\n",
    "    def get_ranged_int(f, e):\n",
    "        nums = []\n",
    "        for i in range(f, e + 1):\n",
    "            nums.append(i)\n",
    "        return nums\n",
    "\n",
    "    N = int(input())\n",
    "    A = list(map(int, input().split()))\n",
    "    B = list(map(int, input().split()))\n",
    "    #     N=3\n",
    "    #     A=[3,2,5]\n",
    "    #     B=[6,9,8]\n",
    "\n",
    "    num_sets = []\n",
    "    for i in range(N):\n",
    "        num_sets.append(set(get_ranged_int(A[i], B[i])))\n",
    "    ans = set.intersection(*num_sets)\n",
    "    print(len(ans))\n",
    "\n",
    "\n",
    "b_problem()"
   ]
  },
  {
   "cell_type": "code",
   "execution_count": null,
   "id": "irish-corner",
   "metadata": {},
   "outputs": [],
   "source": [
    "def c_problem():\n",
    "    def act1(S, A, B):\n",
    "        if A < B:\n",
    "            p1 = A - 1\n",
    "            p2 = B - 1\n",
    "        elif A == B:\n",
    "            return S\n",
    "        else:\n",
    "            p1 = B - 1\n",
    "            p2 = A - 1\n",
    "\n",
    "        return S[:p1] + S[p2] + S[p1 + 1 : p2] + S[p1] + S[p2 + 1 :]\n",
    "\n",
    "    def act2(S, N):\n",
    "        return S[-N:] + S[N:-N] + S[:N]\n",
    "\n",
    "    N = int(input())\n",
    "    S = input()\n",
    "    Q = int(input())\n",
    "    queries = [list(map(int, input().split())) for q in range(Q)]\n",
    "\n",
    "    #     N = 2\n",
    "    #     S = \"FLIP\"\n",
    "    #     Q = 2\n",
    "    #     queries = [[2, 0, 0], [1, 1, 4]]\n",
    "\n",
    "    for query in queries:\n",
    "        if query[i][0] == 1:\n",
    "            S = act1(S=S, A=query[1], B=query[2])\n",
    "        else:\n",
    "            S = act2(S=S, N=N)\n",
    "\n",
    "    print(S)\n",
    "\n",
    "\n",
    "c_problem()"
   ]
  },
  {
   "cell_type": "code",
   "execution_count": null,
   "id": "large-dream",
   "metadata": {},
   "outputs": [],
   "source": [
    "import itertools\n",
    "def e_problem():\n",
    "    #     N, M = map(int, input().split())\n",
    "    #     queries = [list(map(int, input().split())) for q in range(Q)]\n",
    "    N = 3\n",
    "    M = 1\n",
    "    queries = [[2, 2, 1]]\n",
    "\n",
    "    p = itertools.permutations([i for i in range(1, N + 1)], N)\n",
    "    for a in p:\n",
    "        ls =list(a)[:M+1]\n",
    "        ls.sort()\n",
    "        print(ls)\n",
    "        \n",
    "#     print(list(p))\n",
    "\n",
    "\n",
    "e_problem()"
   ]
  },
  {
   "cell_type": "code",
   "execution_count": null,
   "id": "possible-inventory",
   "metadata": {},
   "outputs": [],
   "source": [
    "a = \"abcdef\"\n",
    "# bとeを入れ替え\n",
    "p1 = 1\n",
    "p2 = 1\n",
    "\n",
    "# aとbの大小関係に注意が必要\n",
    "a[:p1] + a[p2] + a[p1 + 1 : p2] + a[p1] + a[p2 + 1 :]"
   ]
  },
  {
   "cell_type": "code",
   "execution_count": null,
   "id": "hungarian-basin",
   "metadata": {},
   "outputs": [],
   "source": [
    "# a = \"abcdef\"\n",
    "a = \"FLIP\"\n",
    "n = 2\n",
    "# a[:n] + a[n+1:-n-1] + a[-n:]\n",
    "print(a[-n:] + a[n:-n] + a[:n])\n",
    "# print(a[:n])\n",
    "# print(a[n:-n])\n",
    "# print(a[-n:])"
   ]
  },
  {
   "cell_type": "code",
   "execution_count": null,
   "id": "accomplished-peter",
   "metadata": {},
   "outputs": [],
   "source": []
  }
 ],
 "metadata": {
  "kernelspec": {
   "display_name": "Python 3.8.2 64-bit ('.venv': venv)",
   "language": "python",
   "name": "python38264bitvenvvenvb2dcf18571384821bc98a911a46cbd4b"
  },
  "language_info": {
   "codemirror_mode": {
    "name": "ipython",
    "version": 3
   },
   "file_extension": ".py",
   "mimetype": "text/x-python",
   "name": "python",
   "nbconvert_exporter": "python",
   "pygments_lexer": "ipython3",
   "version": "3.8.6"
  }
 },
 "nbformat": 4,
 "nbformat_minor": 5
}
